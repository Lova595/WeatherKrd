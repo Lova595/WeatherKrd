{
  "nbformat": 4,
  "nbformat_minor": 0,
  "metadata": {
    "colab": {
      "provenance": [],
      "include_colab_link": true
    },
    "kernelspec": {
      "name": "python3",
      "display_name": "Python 3"
    },
    "language_info": {
      "name": "python"
    }
  },
  "cells": [
    {
      "cell_type": "markdown",
      "metadata": {
        "id": "view-in-github",
        "colab_type": "text"
      },
      "source": [
        "<a href=\"https://colab.research.google.com/github/Lova595/WeatherKrd/blob/main/%D0%9A%D0%BE%D0%BF%D0%B8%D1%8F_%D0%B1%D0%BB%D0%BE%D0%BA%D0%BD%D0%BE%D1%82%D0%B0_%22%D0%9F%D1%80%D0%BE%D0%B4%D0%B2%D0%B8%D0%BD%D1%83%D1%82%D1%8B%D0%B9_%D0%B1%D0%BB%D0%BE%D0%BA_%7C_%D0%93%D0%B5%D0%BD%D0%B5%D1%82%D0%B8%D1%87%D0%B5%D1%81%D0%BA%D0%B8%D0%B5_%D0%B0%D0%BB%D0%B3%D0%BE%D1%80%D0%B8%D1%82%D0%BC%D1%8B_%D0%92%D0%B2%D0%B5%D0%B4%D0%B5%D0%BD%D0%B8%D0%B5_%D0%91%D0%B0%D0%B7%D0%BE%D0%B2%D1%8B%D0%B5_%D0%BF%D1%80%D0%B8%D0%BD%D1%86%D0%B8%D0%BF%D1%8B_%7C_%D0%94%D0%97_Light_%7C_%D0%A3%D0%98%D0%98%22.ipynb\" target=\"_parent\"><img src=\"https://colab.research.google.com/assets/colab-badge.svg\" alt=\"Open In Colab\"/></a>"
      ]
    },
    {
      "cell_type": "markdown",
      "metadata": {
        "id": "4tuEUOTKE2BI"
      },
      "source": [
        "# Уровень Light\n",
        "Сделайте имитацию подбора пароля с помощью генетического алгоритма"
      ]
    },
    {
      "cell_type": "markdown",
      "source": [
        "Дополнительные пояснения к заданию:\n",
        "1. В качестве функции ошибки можете использовать вот такой подход:\n",
        "\n",
        "        def estimate_bot(bot):\n",
        "            error = len(password)\n",
        "            # в цикле проходим по каждой букве\n",
        "            # сравниваем с каждой буквой в реальном пароле\n",
        "            # при каждом совпадении вычитаем единицу из ошибки\n",
        "            for i in range(len(password)):\n",
        "               if bot[i] == password[i]: # проверяем совпадают ли буквы\n",
        "                    error -= 1 # вычитаем единицу. если совпадают\n",
        "            return bot, error\n",
        "\n",
        "    В реальных условиях такой подход естественно не сработает, поскольку мы не знаем реальный пароль. Но цель этого домашнего задания - тренировка работы с генетическими алгоритмами, а не создание взломщика паролей :)\n",
        "\n",
        "2. Сама задача может оказаться довольно сложной (в зависимости от длины исходного пароля) и потребовать значительного времени вычисления, поэтому результат с ошибкой менее 4 символов будет считаться хорошим результатом"
      ],
      "metadata": {
        "id": "PhodS1j1xpt2"
      }
    },
    {
      "cell_type": "code",
      "source": [
        "# Импорт библиотек\n",
        "import numpy as np\n",
        "import random as random\n",
        "import string # для генерации пароля\n",
        "import matplotlib.pyplot as plt"
      ],
      "metadata": {
        "id": "QNvvqnXbQ3fU"
      },
      "execution_count": 2,
      "outputs": []
    },
    {
      "cell_type": "code",
      "source": [
        "password = ['654kxd5js']"
      ],
      "metadata": {
        "id": "PDsE9Pz0R7dQ"
      },
      "execution_count": 12,
      "outputs": []
    },
    {
      "cell_type": "code",
      "source": [
        "l = len(password)\n",
        "characters = string.ascii_letters + string.digits + string.punctuation\n",
        "random_password = ''.join(random.choice(characters) for _ in range(l))\n",
        "\n",
        "bot = []\n",
        "\n",
        "for i in range(l):\n",
        "  gen = random.randint()\n",
        "  bot.append(gen)\n",
        "\n",
        "print('Последовательность пароля', bot)"
      ],
      "metadata": {
        "colab": {
          "base_uri": "https://localhost:8080/"
        },
        "id": "WXoTop1TU5Px",
        "outputId": "5dc7ccf5-7beb-4fba-d931-95f5228fbb58"
      },
      "execution_count": 14,
      "outputs": [
        {
          "output_type": "stream",
          "name": "stdout",
          "text": [
            "Последовательность пароля [0]\n"
          ]
        }
      ]
    },
    {
      "cell_type": "code",
      "source": [
        "def estimate_bot(bot):\n",
        "     error = len(password)\n",
        "     # в цикле проходим по каждой букве\n",
        "     # сравниваем с каждой буквой в реальном пароле\n",
        "     # при каждом совпадении вычитаем единицу из ошибки\n",
        "     for i in range(len(password)):\n",
        "        if bot[i] == password[i]: # проверяем совпадают ли буквы\n",
        "             error -= 1 # вычитаем единицу. если совпадают\n",
        "     return bot, error"
      ],
      "metadata": {
        "id": "dKrYTNhqwenF"
      },
      "execution_count": null,
      "outputs": []
    }
  ]
}